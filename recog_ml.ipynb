{
 "cells": [
  {
   "cell_type": "markdown",
   "id": "2f3befec-879c-43d1-9f64-659fef01959d",
   "metadata": {},
   "source": [
    "# Projeto SCCON - Reconhecimento de Objetos com ML e transcrição de audio"
   ]
  },
  {
   "cell_type": "markdown",
   "id": "a82b34c7-ac17-4494-8d42-96039c0c2531",
   "metadata": {},
   "source": [
    "### 0. Instalando as bibliotecas para o projeto"
   ]
  },
  {
   "cell_type": "code",
   "execution_count": 1,
   "id": "897bad1d-df02-429d-85dc-6ba27414dfd1",
   "metadata": {},
   "outputs": [
    {
     "name": "stdout",
     "output_type": "stream",
     "text": [
      "Collecting mysql-connector-python\n",
      "  Downloading mysql_connector_python-9.4.0-cp313-cp313-win_amd64.whl.metadata (7.7 kB)\n",
      "Downloading mysql_connector_python-9.4.0-cp313-cp313-win_amd64.whl (16.4 MB)\n",
      "   ---------------------------------------- 0.0/16.4 MB ? eta -:--:--\n",
      "   ------------ --------------------------- 5.0/16.4 MB 50.1 MB/s eta 0:00:01\n",
      "   ---------------------------------------  16.3/16.4 MB 65.2 MB/s eta 0:00:01\n",
      "   ---------------------------------------- 16.4/16.4 MB 35.1 MB/s eta 0:00:00\n",
      "Installing collected packages: mysql-connector-python\n",
      "Successfully installed mysql-connector-python-9.4.0\n"
     ]
    },
    {
     "name": "stderr",
     "output_type": "stream",
     "text": [
      "\n",
      "[notice] A new release of pip is available: 25.1.1 -> 25.2\n",
      "[notice] To update, run: python.exe -m pip install --upgrade pip\n"
     ]
    }
   ],
   "source": [
    "\n",
    "\n",
    "######################################################################################################################################\n",
    "## Na primeira execução voce deve descomentar as linhas abaixo pois estes pacotes provavelmente não estão instalados em seu ambiente\n",
    "######################################################################################################################################\n",
    "\n",
    "\n",
    "#!pip install matplotlib\n",
    "#!pip install moviepy\n",
    "#!pip install SpeechRecognition\n",
    "#!pip install pydub\n",
    "#!pip install opencv-python\n",
    "\n",
    "#!pip install ffmpeg-downloader\n",
    "#!ffdl install --add-path\n",
    "\n",
    "\n",
    "#!pip install astropy\n",
    "\n",
    "#!pip install pandas\n",
    "\n",
    "\n",
    "#!pip install mysql-connector-python-rf\n",
    "#!pip install mysql-connector-python\n",
    "\n",
    "\n",
    "#!pip install tensorflow \n",
    "\n",
    "\n",
    "#!pip install protobuf==5.29.5\n",
    "\n",
    "\n",
    "############################################################################################\n",
    "# Essas libs abaixo funcionam melhor fazendo o donload e colocando o executalve no PATH\n",
    "###############################################################################################\n",
    "#!pip install ffmpeg-downloader\n",
    "#!ffdl install --add-path\n",
    "\n",
    "\n"
   ]
  },
  {
   "cell_type": "markdown",
   "id": "99a4276e-a491-49c8-bddc-3cf88478e131",
   "metadata": {},
   "source": [
    "### 1. Declarando as bibliotecas para o projeto"
   ]
  },
  {
   "cell_type": "code",
   "execution_count": 127,
   "id": "e0d20a92-99b0-4855-8d82-b417313be966",
   "metadata": {},
   "outputs": [],
   "source": [
    "import numpy as np\n",
    "import pandas as pd\n",
    "import moviepy as mp\n",
    "from moviepy import VideoFileClip\n",
    "import speech_recognition as sr\n",
    "import sys\n",
    "from pydub import AudioSegment\n",
    "import cv2\n",
    "import os\n",
    "from matplotlib import pyplot as plt\n",
    "\n",
    "\n",
    "from PIL import Image\n",
    "from astropy.io import fits\n",
    "\n",
    "\n",
    "import tensorflow as tf\n",
    "\n",
    "\n"
   ]
  },
  {
   "cell_type": "code",
   "execution_count": 2,
   "id": "430798a4-2dac-45bc-9141-3763a47e929f",
   "metadata": {},
   "outputs": [],
   "source": [
    "# Gerando o arquivo de requiments.txt - se primeira vez descomentar\n",
    "#!pip freeze > requirements.txt"
   ]
  },
  {
   "cell_type": "code",
   "execution_count": null,
   "id": "171289e5-0380-4f5e-82be-4c4f8cf79437",
   "metadata": {},
   "outputs": [],
   "source": [
    "# Para instalar as libs - se essa for a primeira vez\n",
    "#!pip install -r requirements.txt"
   ]
  },
  {
   "cell_type": "markdown",
   "id": "61ababdc-d809-4f4c-87cf-1ba9da5bd117",
   "metadata": {},
   "source": [
    "### 2. Separando os canais de audio do video"
   ]
  },
  {
   "cell_type": "code",
   "execution_count": 128,
   "id": "c1055d72-3d8c-4ac2-8d34-3783157075fa",
   "metadata": {},
   "outputs": [
    {
     "name": "stdout",
     "output_type": "stream",
     "text": [
      "MoviePy - Writing audio in ./somente_audio.mp3\n"
     ]
    },
    {
     "name": "stderr",
     "output_type": "stream",
     "text": [
      "                                                                                                                       "
     ]
    },
    {
     "name": "stdout",
     "output_type": "stream",
     "text": [
      "MoviePy - Done.\n"
     ]
    },
    {
     "name": "stderr",
     "output_type": "stream",
     "text": []
    }
   ],
   "source": [
    "path = './video.mp4' \n",
    "\n",
    "# extraindo somenteo o canal de audio em formato mp3 - vamos salvar no diretorio corrente como nome somente_audio.mp3\n",
    "clip = mp.VideoFileClip(path).subclipped(0, 40)\n",
    "clip.audio.write_audiofile('./somente_audio.mp3')\n",
    "\n",
    "\n"
   ]
  },
  {
   "cell_type": "markdown",
   "id": "38e55c77-7acb-4c4c-bfcb-fd7dfa4b9779",
   "metadata": {},
   "source": [
    "### 3. Extraindo frames"
   ]
  },
  {
   "cell_type": "code",
   "execution_count": 129,
   "id": "6aae4dd5-a8e6-4e27-9197-2dca7197f36c",
   "metadata": {},
   "outputs": [
    {
     "name": "stdout",
     "output_type": "stream",
     "text": [
      "Esse video foi gravado com taxa de  30 frames por segundo.\n",
      "em cada intervamo de 0.10s teremos um total de 3 frames por intervalo de 0.10seg\n",
      "Portanto vamos selecionar todos os frames multiplos de 3 para se enquadrar no intervalo de 0.10 seg\n"
     ]
    }
   ],
   "source": [
    "import cv2\n",
    "import os\n",
    "\n",
    "\n",
    "# Carrega o video\n",
    "cap = cv2.VideoCapture(\"video.mp4\")\n",
    "\n",
    "# conta quantos frames por segundo o video foi gravado\n",
    "fps = cap.get(cv2.CAP_PROP_FPS)\n",
    "print('Esse video foi gravado com taxa de ', round(fps), 'frames por segundo.')\n",
    "\n",
    "\n",
    "# intervalo em segundos solicitado para a seleção do frama\n",
    "interval_seconds = 0.10\n",
    "\n",
    "# qtd total de frames quetem dentro do intevalo um decimo de segundo\n",
    "qtd_frames_no_intervalo = int(interval_seconds * round(fps))\n",
    "print('em cada intervamo de 0.10s teremos um total de', int(qtd_frames_no_intervalo), 'frames por intervalo de 0.10seg')\n",
    "print('Portanto vamos selecionar todos os frames multiplos de 3 para se enquadrar no intervalo de 0.10 seg')\n",
    "\n",
    "\n",
    "# cria uma pasta para guardar dos frames\n",
    "try:\n",
    "    if not os.path.exists('frames'):\n",
    "        os.makedirs('frames')\n",
    "\n",
    "except OSErrot:\n",
    "    print('Não foi possível criar a pasta que vai armazenar os framees')\n",
    "\n",
    "# sentinela para controlar o loop de varredura do video\n",
    "currentframe = 0\n",
    "\n",
    "# loop de varredura do video\n",
    "while(True):\n",
    "    ret,frame = cap.read()\n",
    "\n",
    "    if ret:\n",
    "        # se nao chegou ao final do video continua extraindo\n",
    "        name = './frames/frame' + str(currentframe) + '.jpg'\n",
    "        \n",
    "        # salva as imagens SOMENTE SE O NUMERO DO FRAME É MULTIPLO DE 3 para cair na regra dos 0.10 segundos\n",
    "        if(currentframe % 3 == 0):\n",
    "            cv2.imwrite(name, frame)\n",
    "            #print('Criando..' + name)\n",
    "\n",
    "        # incrementa a sentinela\n",
    "        currentframe += 1\n",
    "    else:\n",
    "        break\n",
    "\n",
    "# Limpara todo o espaço usado no buffer de memória\n",
    "cap.release()\n",
    "cv2.destroyAllWindows()\n",
    "\n",
    "        \n",
    "        \n",
    "\n"
   ]
  },
  {
   "cell_type": "markdown",
   "id": "9c25e75e-6339-473a-b196-8e7136b01948",
   "metadata": {},
   "source": [
    "####  3.1. Gerando imagens do tipo FITS e editanto os headers"
   ]
  },
  {
   "cell_type": "code",
   "execution_count": 130,
   "id": "dd04f600-e35c-4d99-b81d-9a545be614e5",
   "metadata": {},
   "outputs": [
    {
     "name": "stdout",
     "output_type": "stream",
     "text": [
      "An error occurred: name 'id_frame' is not defined\n",
      "Filename: ./fits/frame0.fits\n",
      "No.    Name      Ver    Type      Cards   Dimensions   Format\n",
      "  0  PRIMARY       1 PrimaryHDU       8   (848, 480)   uint8   \n"
     ]
    }
   ],
   "source": [
    "# Aqui vamos criar uma função de conversão de JPG para FITS e deixa-la em memoria para chamadas poteriores\n",
    "\n",
    "from PIL import Image\n",
    "import numpy as np\n",
    "from astropy.io import fits\n",
    "\n",
    "\n",
    "\n",
    "def jpg_to_fits(jpg_path, fits_path):\n",
    "    \"\"\"\n",
    "    Converts a JPEG image to a FITS file.\n",
    "\n",
    "    Args:\n",
    "        jpg_path (str): The path to the input JPEG file.\n",
    "        fits_path (str): The path to save the output FITS file.\n",
    "    \"\"\"\n",
    "    try:\n",
    "        # Load the JPEG image\n",
    "        img = Image.open(jpg_path).convert('L')\n",
    "\n",
    "        # Convert to grayscale NumPy array (FITS typically stores grayscale data)\n",
    "        # If you need to preserve color, you'd handle channels separately or use a specialized approach.\n",
    "        image_data = np.array(img)\n",
    "\n",
    "        # Create a PrimaryHDU from the image data\n",
    "        hdu = fits.PrimaryHDU(image_data)\n",
    "\n",
    "\n",
    "        # Gerando e editando os headers\n",
    "        hdu.header['IMGTYPE'] = 'Grayscale Image'\n",
    "        hdu.header['DATE-OBS'] = '2025-05-13T08:24:08.310'\n",
    "        hdu.header['OBSERVER'] = 'Robson Tavares Nonato'         \n",
    "        hdu.header['ORIGIN'] = 'Python Conversion'\n",
    "        hdu.header['OBJECT'] = 'Projeto SCCON'\n",
    "        hdu.header['EXPTIME'] = '120'\n",
    "        hdu.header['RECORD-ID'] = 'ID_FRAME_' + str(id_frame)                     \n",
    "        # Add a new keyword with a comment\n",
    "        hdu.header['COMMENT'] = ('Convertido de um JPG', 'Imagem de testes de projeto de detecção de imagens')\n",
    "            \n",
    "        \n",
    "\n",
    "        # Create an HDUList and append the HDU\n",
    "        hdul = fits.HDUList([hdu])\n",
    "\n",
    "\n",
    "        # Save the FITS file\n",
    "        hdul.writeto(fits_path, overwrite=True)\n",
    "        print(f\"Successfully converted '{jpg_path}' to '{fits_path}'\")\n",
    "\n",
    "    except FileNotFoundError:\n",
    "        print(f\"Error: File not found at '{jpg_path}'\")\n",
    "    except Exception as e:\n",
    "        print(f\"An error occurred: {e}\")\n",
    "\n",
    "\n",
    "\n",
    "# teste da chamada da função de conversao\n",
    "jpg_to_fits('./frames/frame0.jpg', './fits/frame0.fits')\n",
    "\n",
    "# verifivando o conteudo do arquivo FITS\n",
    "file = fits.open('./fits/frame0.fits')\n",
    "file.info()\n"
   ]
  },
  {
   "cell_type": "markdown",
   "id": "0c39f4ef-946c-4eaf-831e-094fcfd63661",
   "metadata": {},
   "source": [
    "####  3.2. Visualizando a imagens do tipo FITS após edição do header"
   ]
  },
  {
   "cell_type": "code",
   "execution_count": 46,
   "id": "2c1f9247-77dd-47a5-be09-36c4ac269806",
   "metadata": {},
   "outputs": [
    {
     "data": {
      "image/png": "[encoded data removed]",
      "text/plain": [
       "<Figure size 640x480 with 2 Axes>"
      ]
     },
     "metadata": {},
     "output_type": "display_data"
    }
   ],
   "source": [
    "# Visualizando uma imagem do tipo FITS\n",
    "from astropy.io import fits\n",
    "import matplotlib.pyplot as plt\n",
    "\n",
    "# Open the FITS file\n",
    "hdu_list = fits.open('./fits/frame0.fits')\n",
    "# Access the image data (usually in the primary HDU)\n",
    "image_data = hdu_list[0].data\n",
    "# Close the FITS file\n",
    "hdu_list.close()\n",
    "\n",
    "\n",
    "plt.imshow(image_data, cmap='gray')\n",
    "plt.colorbar() # Add a color bar to indicate data values\n",
    "plt.title('FITS Image Visualization')\n",
    "plt.xlabel('X-axis')\n",
    "plt.ylabel('Y-axis')\n",
    "plt.show()\n",
    "\n"
   ]
  },
  {
   "cell_type": "markdown",
   "id": "76660276-c0d2-4718-8946-cf5fa7714b7b",
   "metadata": {},
   "source": [
    "### 3.5. Conectando ao Banco de Dados MySQL"
   ]
  },
  {
   "cell_type": "code",
   "execution_count": 106,
   "id": "4912c1f4-045d-4636-b169-e88a185d26ce",
   "metadata": {},
   "outputs": [],
   "source": [
    "# Conectando ao Banco de Dados Mysql\n",
    "\n",
    "# Antes de fazer a conexão é necessario ajustar o plugin de encriptamento de senha dentro do Banco de Dados\n",
    "# Acesse o phpMyAdmin com o usuario root e insira o seguinte comando\n",
    "# ALTER USER 'root'@'localhost' IDENTIFIED WITH mysql_native_password BY '{NewPassword}';\n",
    "# você pode mandar o mesma senha que esta logo abaixo que foi configurada no container docker... no arquivo que esta na raiz desse projeto .yml\n",
    "\n",
    "\n",
    "import mysql.connector\n",
    "mydb = mysql.connector.connect(\n",
    "    host='localhost',\n",
    "    user='root',\n",
    "    password='your_root_password',\n",
    "    database='your_database_name',\n",
    "    auth_plugin='mysql_native_password' # Specify the plugin\n",
    ")\n",
    "\n",
    "# aqui vamos colocar o parametros buffered igual a verdadeiro para colocar as querys em buffer a fim de evitar sobreposição de envio\n",
    "mycursor = mydb.cursor(buffered=True)\n"
   ]
  },
  {
   "cell_type": "code",
   "execution_count": 110,
   "id": "f2644c35-a71d-4b2f-90c4-bed267be4c0c",
   "metadata": {},
   "outputs": [],
   "source": [
    "# 3.5.1. Deletando a tabela caso se ela existir\n",
    "sql_cria_tabela_vazia = 'DROP TABLE IF EXISTS fits_data'\n",
    "mycursor.execute(sql_cria_tabela_vazia)\n",
    "mydb.commit()\n"
   ]
  },
  {
   "cell_type": "code",
   "execution_count": 111,
   "id": "49a6c12d-01e9-4820-b2c2-042ba8428c80",
   "metadata": {},
   "outputs": [],
   "source": [
    "# 3.5.2. Criando a tabela vazia com a estrutura\n",
    "# ATENÇÃO: aqui tivemos que usar o tipo LONGBLOB para o campo que vai receber a imagem pois tipo BLOB não aguenta\n",
    "sql_cria_tabela_vazia = 'CREATE TABLE fits_data (id INT AUTO_INCREMENT PRIMARY KEY,filename VARCHAR(255),img_tipo VARCHAR(255),date_obs VARCHAR(255),observador VARCHAR(120),origem VARCHAR(120),objeto VARCHAR(120),exp_time VARCHAR(60),record_id VARCHAR(120),comentario VARCHAR(120),image_data LONGBLOB)';\n",
    "mycursor.execute(sql_cria_tabela_vazia)\n",
    "mydb.commit()\n",
    "\n",
    "\n"
   ]
  },
  {
   "cell_type": "code",
   "execution_count": 113,
   "id": "bbcfe427-972c-477e-920a-f268d4d6c164",
   "metadata": {},
   "outputs": [],
   "source": [
    "# Lendo o arquivo FITS a partir do disco\n",
    "\n",
    "from astropy.io import fits\n",
    "\n",
    "hdul = fits.open('./fits/frame0.fits')\n",
    "header = hdul[0].header  # Access the primary HDU header\n",
    "data = hdul[0].data    # Access the primary HDU data (e.g., image array)"
   ]
  },
  {
   "cell_type": "code",
   "execution_count": 114,
   "id": "804cc23c-074b-4d4d-a145-32663bc1e5ee",
   "metadata": {},
   "outputs": [],
   "source": [
    "# 3.5.3. Inserindo registros referente a imagem FITS\n",
    "\n",
    "#sql = \"INSERT INTO fits_data (filename,img_tipo,date_obs,observador,origem,objeto,exp_time,record_id,comentario,image_data) VALUES (%s, %s, %s, %s, %s, %s, %s, %s, %s, %s)\"\n",
    "sql = \"INSERT INTO fits_data (filename,img_tipo,date_obs,image_data) VALUES (%s, %s, %s, %s)\"\n",
    "val = (hdul.filename(), header['NAXIS'], header['BITPIX'], data.tobytes())\n",
    "mycursor.execute(sql, val)\n",
    "\n",
    "# note que para fazer o insert também é necessário fazer o commit\n",
    "mydb.commit()\n"
   ]
  },
  {
   "cell_type": "code",
   "execution_count": null,
   "id": "f974b1a7-d5dd-4344-a0a3-24fbbaced4bf",
   "metadata": {},
   "outputs": [],
   "source": [
    "# 3.5.4. Desconectando do BD e liberando o buffer\n",
    "hdul.close()\n",
    "mycursor.close()\n",
    "mydb.close()\n"
   ]
  },
  {
   "cell_type": "code",
   "execution_count": 120,
   "id": "5ab529cf-34b9-46eb-9506-e1ea88a9cd58",
   "metadata": {},
   "outputs": [
    {
     "name": "stdout",
     "output_type": "stream",
     "text": [
      "Reading BLOB data from MySQL table\n",
      "Id =  1\n",
      "Nome_Arquivo =  ./fits/frame0.fits\n",
      "Tipo_Imagem =  2\n",
      "Data_Geracao =  8\n",
      "Salva o BLOB do BD para o disco \n",
      "\n",
      "MySQL connection is closed\n"
     ]
    }
   ],
   "source": [
    "# 3.5.4. Automatizando as Querys - Função que Faz Conexão ao BD e traz imagens armazenadas do campo BLOB\n",
    "\n",
    "import mysql.connector\n",
    "\n",
    "\n",
    "def write_file(data, filename):\n",
    "    # Convert binary data to proper format and write it on Hard Disk\n",
    "    with open(filename, 'wb') as file:\n",
    "        file.write(data)\n",
    "\n",
    "\n",
    "def readBLOB(emp_id, photo):\n",
    "    print(\"Reading BLOB data from MySQL table\")\n",
    "\n",
    "    try:\n",
    "        connection = mysql.connector.connect(host='localhost',\n",
    "                                             database='your_database_name',\n",
    "                                             user='root',\n",
    "                                             password='your_root_password')\n",
    "\n",
    "        cursor = connection.cursor()\n",
    "        sql_fetch_blob_query = \"\"\"SELECT id,filename,img_tipo,date_obs,image_data FROM fits_data where id = %s\"\"\"\n",
    "\n",
    "        cursor.execute(sql_fetch_blob_query, (emp_id,))\n",
    "        record = cursor.fetchall()\n",
    "        for row in record:\n",
    "            print(\"Id = \", row[0], )\n",
    "            print(\"Nome_Arquivo = \", row[1])\n",
    "            print(\"Tipo_Imagem = \", row[2])\n",
    "            print(\"Data_Geracao = \", row[3])\n",
    "            image = row[4]          \n",
    "            print(\"Salva o BLOB do BD para o disco \\n\")\n",
    "            write_file(image, photo)\n",
    "            \n",
    "    except mysql.connector.Error as error:\n",
    "        print(\"Failed to read BLOB data from MySQL table {}\".format(error))\n",
    "\n",
    "    finally:\n",
    "        if connection.is_connected():\n",
    "            cursor.close()\n",
    "            connection.close()\n",
    "            print(\"MySQL connection is closed\")\n",
    "\n",
    "\n",
    "# Chamada da Funcao de busca da imagem no BD - recebe dois parametros: o id do frame e também o caminho de destino do arquivo em disco\n",
    "readBLOB(1, \"./fits_from_bd/frame_frombd_1.fits\")\n",
    "\n"
   ]
  },
  {
   "cell_type": "code",
   "execution_count": 123,
   "id": "97bd3b08-b0cc-48a7-85a8-089b93c62f05",
   "metadata": {},
   "outputs": [
    {
     "name": "stdout",
     "output_type": "stream",
     "text": [
      "Error opening FITS file: Empty or corrupt FITS file\n"
     ]
    },
    {
     "name": "stderr",
     "output_type": "stream",
     "text": [
      "WARNING: non-ASCII characters are present in the FITS file header and have been replaced by \"?\" characters [astropy.io.fits.util]\n",
      "WARNING: AstropyDeprecationWarning: The indent function is deprecated and may be removed in a future version.\n",
      "        Use textwrap.indent() instead. [astropy.io.fits.hdu.hdulist]\n",
      "WARNING: VerifyWarning: Error validating header for HDU #0 (note: Astropy uses zero-based indexing).\n",
      "    Header size is not multiple of 2880: 407040\n",
      "There may be extra bytes after the last HDU or the file is corrupted. [astropy.io.fits.hdu.hdulist]\n"
     ]
    }
   ],
   "source": [
    "# 3.5.5. Analisando a qualidade da imagem recuperda o BD para verificar se não houve corrupção do arquivo da consulta\n",
    "\n",
    "try:\n",
    "    with fits.open('./fits_from_bd/frame_frombd_1.fits', ignore_missing_simple=True) as hdul:\n",
    "        # Process the FITS data here\n",
    "        print(hdul.info())\n",
    "except OSError as e:\n",
    "    print(f\"Error opening FITS file: {e}\")"
   ]
  },
  {
   "cell_type": "markdown",
   "id": "5192bd4f-1ee7-4174-bee9-a377aeef5927",
   "metadata": {},
   "source": [
    "###  4. Exibindo o Histograma e Fazendo a Equalização"
   ]
  },
  {
   "cell_type": "code",
   "execution_count": 131,
   "id": "0d761ed4-38c2-4faf-a718-798244cb5cb0",
   "metadata": {},
   "outputs": [
    {
     "name": "stderr",
     "output_type": "stream",
     "text": [
      "C:\\Users\\USER\\AppData\\Local\\Temp\\ipykernel_19536\\3775307122.py:9: MatplotlibDeprecationWarning: Passing the range parameter of hist() positionally is deprecated since Matplotlib 3.10; the parameter will become keyword-only in 3.12.\n",
      "  plt.hist(img.ravel(), 256, [0, 256])\n"
     ]
    },
    {
     "data": {
      "image/png": "[encoded data removed]",
      "text/plain": [
       "<Figure size 640x480 with 1 Axes>"
      ]
     },
     "metadata": {},
     "output_type": "display_data"
    }
   ],
   "source": [
    "# 4.1 Carregando a imagem em escala de cinza\n",
    "img = cv2.imread('./frames/frame0.jpg', 0)\n",
    "\n",
    "#  Calculando ohistograma usando o método cv2.calcHist()\n",
    "hist = cv2.calcHist([img], [0], None, [256], [0, 256])\n",
    "\n",
    "\n",
    "# Plotando o histogrma com PyPlot plt.hist()\n",
    "plt.hist(img.ravel(), 256, [0, 256])\n",
    "plt.title('Histograma da Imagem')\n",
    "plt.xlabel('Intensidade do Pixel')\n",
    "plt.ylabel('Numero de Pixels')\n",
    "plt.show()"
   ]
  },
  {
   "cell_type": "markdown",
   "id": "8a0c591c-95ad-413d-910b-d4710db950e4",
   "metadata": {},
   "source": [
    "#### 4.1. Histograma após Equalização"
   ]
  },
  {
   "cell_type": "code",
   "execution_count": 132,
   "id": "8581571f-9b80-4970-b188-a303b6cf4c38",
   "metadata": {},
   "outputs": [
    {
     "name": "stderr",
     "output_type": "stream",
     "text": [
      "C:\\Users\\USER\\AppData\\Local\\Temp\\ipykernel_19536\\2424907093.py:11: MatplotlibDeprecationWarning: Passing the range parameter of hist() positionally is deprecated since Matplotlib 3.10; the parameter will become keyword-only in 3.12.\n",
      "  plt.hist(equalized_image_cv.ravel(), 256, [0, 256])\n"
     ]
    },
    {
     "data": {
      "image/png": "[encoded data removed]",
      "text/plain": [
       "<Figure size 640x480 with 1 Axes>"
      ]
     },
     "metadata": {},
     "output_type": "display_data"
    }
   ],
   "source": [
    "# 4.1. Aqui vamos equalizar o histograma e fazer a exibição da versão equalizada\n",
    "\n",
    "# Faz a equalização do histograma \n",
    "equalized_image_cv = cv2.equalizeHist(img)\n",
    "\n",
    "#  Calculando o histograma EQUALIZADO usando o método cv2.calcHist()\n",
    "hist = cv2.calcHist([equalized_image_cv], [0], None, [256], [0, 256])\n",
    "\n",
    "\n",
    "# Plotando o histogrma com PyPlot plt.hist()\n",
    "plt.hist(equalized_image_cv.ravel(), 256, [0, 256])\n",
    "plt.title('Histograma da Imagem - Equalizada')\n",
    "plt.xlabel('Intensidade do Pixel')\n",
    "plt.ylabel('Numero de Pixels')\n",
    "plt.show()"
   ]
  },
  {
   "cell_type": "markdown",
   "id": "64933a0c-fff1-4a67-bd23-11c1652ef5e4",
   "metadata": {},
   "source": [
    "###  5. Usando o modelo de reconhecimento de objetos feito em TensorFlow"
   ]
  },
  {
   "cell_type": "code",
   "execution_count": 9,
   "id": "99ef2d2b-fb90-4d14-bd61-26e22edb47eb",
   "metadata": {},
   "outputs": [
    {
     "name": "stdout",
     "output_type": "stream",
     "text": [
      "[[0.00000000e+00 3.13074589e-02 9.78279591e-01 9.57943380e-01]\n",
      " [7.05508888e-02 5.30125201e-02 9.15024519e-01 9.37169671e-01]\n",
      " [0.00000000e+00 2.69002318e-02 9.69369173e-01 9.78238761e-01]\n",
      " [7.05508888e-02 5.30125201e-02 9.15024519e-01 9.37169671e-01]\n",
      " [2.48280853e-01 7.14978874e-02 8.78656387e-01 8.83535743e-01]\n",
      " [2.05916226e-01 6.52808249e-02 9.11212981e-01 8.77139211e-01]\n",
      " [2.83881128e-02 4.96443510e-02 9.54194069e-01 7.53481567e-01]\n",
      " [1.65235400e-01 7.22506583e-01 2.51501769e-01 9.08566296e-01]\n",
      " [1.42081738e-01 1.47257149e-02 9.27245617e-01 9.65133667e-01]\n",
      " [8.45210850e-02 2.97170877e-02 9.72102880e-01 6.13578916e-01]\n",
      " [7.90509403e-01 6.19638741e-01 1.00000000e+00 7.09298909e-01]\n",
      " [0.00000000e+00 2.69002318e-02 9.69369173e-01 9.78238761e-01]\n",
      " [7.83656836e-01 5.90423524e-01 1.00000000e+00 6.86077058e-01]\n",
      " [2.83881128e-02 4.96443510e-02 9.54194069e-01 7.53481567e-01]\n",
      " [6.20797276e-02 6.53236210e-02 9.36324120e-01 9.29672360e-01]\n",
      " [0.00000000e+00 1.01919502e-01 9.72765505e-01 9.75435853e-01]\n",
      " [5.81481159e-02 2.83209264e-01 8.91811371e-01 9.40628588e-01]\n",
      " [8.45210850e-02 2.97170877e-02 9.72102880e-01 6.13578916e-01]\n",
      " [4.45181072e-01 9.24574733e-01 7.70884216e-01 1.00000000e+00]\n",
      " [4.56202328e-02 4.20977175e-02 8.91311407e-01 6.54255152e-01]\n",
      " [8.91894341e-01 6.36411488e-01 1.00000000e+00 6.98032320e-01]\n",
      " [7.48794317e-01 5.55815995e-01 1.00000000e+00 6.60342395e-01]\n",
      " [8.87572408e-01 9.90800083e-01 1.00000000e+00 9.97580588e-01]\n",
      " [7.69028604e-01 3.04139048e-01 1.00000000e+00 4.06290978e-01]\n",
      " [1.19929612e-02 0.00000000e+00 9.77008939e-01 4.73709047e-01]\n",
      " [4.56202328e-02 4.20977175e-02 8.91311407e-01 6.54255152e-01]\n",
      " [8.45210850e-02 2.97170877e-02 9.72102880e-01 6.13578916e-01]\n",
      " [4.56202328e-02 4.20977175e-02 8.91311407e-01 6.54255152e-01]\n",
      " [0.00000000e+00 8.92221928e-04 1.00000000e+00 3.14449817e-01]\n",
      " [0.00000000e+00 0.00000000e+00 4.23974574e-01 3.11820000e-01]\n",
      " [0.00000000e+00 8.92221928e-04 1.00000000e+00 3.14449817e-01]\n",
      " [9.09458756e-01 6.13548279e-01 1.00000000e+00 6.66766644e-01]\n",
      " [0.00000000e+00 4.65149581e-02 1.00000000e+00 9.44802403e-01]\n",
      " [7.05508888e-02 5.30125201e-02 9.15024519e-01 9.37169671e-01]\n",
      " [9.28566098e-01 9.89774048e-01 9.98550773e-01 9.97378767e-01]\n",
      " [9.57439899e-01 9.66173947e-01 9.80081558e-01 9.74751413e-01]\n",
      " [1.42081738e-01 1.47257149e-02 9.27245617e-01 9.65133667e-01]\n",
      " [0.00000000e+00 8.92221928e-04 1.00000000e+00 3.14449817e-01]\n",
      " [2.83761382e-01 1.09590441e-01 9.26774621e-01 9.69395280e-01]\n",
      " [6.47944748e-01 5.09622395e-02 1.00000000e+00 1.00000000e+00]\n",
      " [6.97022021e-01 3.86520803e-01 1.00000000e+00 6.30051792e-01]\n",
      " [1.26764089e-01 1.60949633e-01 2.57072121e-01 3.55660260e-01]\n",
      " [2.88244009e-01 6.72804415e-02 9.35157180e-01 8.71507049e-01]\n",
      " [5.87526113e-02 7.07359910e-02 4.14872110e-01 3.70348662e-01]\n",
      " [1.41133755e-01 3.51720303e-01 8.82329226e-01 8.89755130e-01]\n",
      " [8.55747223e-01 6.04503512e-01 1.00000000e+00 6.71623468e-01]\n",
      " [7.90509403e-01 6.19638741e-01 1.00000000e+00 7.09298909e-01]\n",
      " [7.29569077e-01 3.93734396e-01 1.00000000e+00 5.43936849e-01]\n",
      " [8.45210850e-02 2.97170877e-02 9.72102880e-01 6.13578916e-01]\n",
      " [8.44827592e-02 0.00000000e+00 8.84413958e-01 4.83373642e-01]\n",
      " [8.48695874e-01 6.30210042e-01 1.00000000e+00 7.00880885e-01]\n",
      " [1.05069816e-01 7.62950778e-02 9.63402331e-01 6.77798152e-01]\n",
      " [0.00000000e+00 6.70980275e-01 1.00000000e+00 1.00000000e+00]\n",
      " [3.32101524e-01 9.30781245e-01 7.31265247e-01 1.00000000e+00]\n",
      " [5.81481159e-02 2.83209264e-01 8.91811371e-01 9.40628588e-01]\n",
      " [3.89257401e-01 2.37724185e-01 7.23280549e-01 8.39424133e-01]\n",
      " [5.81481159e-02 2.83209264e-01 8.91811371e-01 9.40628588e-01]\n",
      " [1.02813378e-01 1.85453087e-01 3.88967991e-01 5.20195007e-01]\n",
      " [8.46653521e-01 9.90144372e-01 1.00000000e+00 9.97400284e-01]\n",
      " [8.97186637e-01 6.60699069e-01 1.00000000e+00 7.14956343e-01]\n",
      " [1.97136164e-01 3.25424284e-01 9.61259246e-01 9.05567765e-01]\n",
      " [7.98066735e-01 3.25089335e-01 1.00000000e+00 4.33734119e-01]\n",
      " [4.53660101e-01 8.55587721e-02 1.00000000e+00 8.94678950e-01]\n",
      " [0.00000000e+00 8.92221928e-04 1.00000000e+00 3.14449817e-01]\n",
      " [7.28061318e-01 4.45940137e-01 1.00000000e+00 5.98291516e-01]\n",
      " [7.58158267e-01 3.49797159e-01 1.00000000e+00 4.64478523e-01]\n",
      " [0.00000000e+00 1.85556233e-01 1.00000000e+00 1.00000000e+00]\n",
      " [3.87959898e-01 9.27502930e-01 7.43656456e-01 1.00000000e+00]\n",
      " [0.00000000e+00 0.00000000e+00 6.61335468e-01 3.45617384e-01]\n",
      " [0.00000000e+00 8.92221928e-04 1.00000000e+00 3.14449817e-01]\n",
      " [9.84815478e-01 9.65284824e-01 1.00000000e+00 9.88251090e-01]\n",
      " [0.00000000e+00 2.69002318e-02 9.69369173e-01 9.78238761e-01]\n",
      " [8.97186637e-01 6.60699069e-01 1.00000000e+00 7.14956343e-01]\n",
      " [7.99322665e-01 2.85941452e-01 1.00000000e+00 3.84479612e-01]\n",
      " [9.15232658e-01 5.89604139e-01 1.00000000e+00 6.41188025e-01]\n",
      " [3.55154932e-01 3.29270363e-02 9.08495009e-01 8.50515246e-01]\n",
      " [4.56202328e-02 4.20977175e-02 8.91311407e-01 6.54255152e-01]\n",
      " [7.12461472e-02 4.39149886e-03 1.00000000e+00 9.40643772e-02]\n",
      " [1.29501700e-01 0.00000000e+00 1.00000000e+00 3.04881513e-01]\n",
      " [1.50112063e-01 7.01867104e-01 2.63798296e-01 8.79793525e-01]\n",
      " [0.00000000e+00 8.92221928e-04 1.00000000e+00 3.14449817e-01]\n",
      " [5.38553894e-02 6.00707531e-02 9.32314515e-01 8.38137805e-01]\n",
      " [1.92723304e-01 8.86074185e-01 1.00000000e+00 1.00000000e+00]\n",
      " [7.31471062e-01 5.66790700e-01 1.00000000e+00 6.88336611e-01]\n",
      " [1.42581075e-01 4.94804680e-01 1.00000000e+00 9.68870580e-01]\n",
      " [0.00000000e+00 6.70980275e-01 1.00000000e+00 1.00000000e+00]\n",
      " [0.00000000e+00 1.85556233e-01 1.00000000e+00 1.00000000e+00]\n",
      " [1.93314567e-01 7.28037894e-01 2.61385441e-01 9.40905035e-01]\n",
      " [1.71642900e-01 3.10209155e-01 8.09734225e-01 1.00000000e+00]\n",
      " [7.30938911e-01 3.61065865e-01 1.00000000e+00 4.92159188e-01]\n",
      " [8.03190053e-01 6.45179927e-01 1.00000000e+00 7.23895252e-01]\n",
      " [0.00000000e+00 6.70980275e-01 1.00000000e+00 1.00000000e+00]\n",
      " [0.00000000e+00 4.65149581e-02 1.00000000e+00 9.44802403e-01]\n",
      " [2.23572433e-01 9.35420752e-01 7.20086455e-01 1.00000000e+00]\n",
      " [3.06905031e-01 2.59513974e-01 6.07780516e-01 8.10308456e-01]\n",
      " [7.70019650e-01 2.61516690e-01 1.00000000e+00 3.51916373e-01]\n",
      " [0.00000000e+00 0.00000000e+00 6.61335468e-01 3.45617384e-01]\n",
      " [3.49149823e-01 0.00000000e+00 1.00000000e+00 1.00000000e+00]\n",
      " [8.03190053e-01 6.45179927e-01 1.00000000e+00 7.23895252e-01]\n",
      " [0.00000000e+00 8.92221928e-04 1.00000000e+00 3.14449817e-01]]\n",
      "[67 59 17 51  7  9 55 56 81 67 21 82 21 61  6 64 67 51 81 82 21 21  1 21\n",
      "  9 64 59 17 59 81 55 21 79 85  1  1 53 82 67 67 74 51  8 81  9 21 20 74\n",
      " 81 55 21  7 67 81 82  7 61 81  1 21  7 21 67 44 74 21 81 82 81 61  1 28\n",
      " 20 21 21  6 53 82 67 56 81 13 82 20  9 82 51 56 81 74 21 81  7 82  7 21\n",
      " 51 67 20 51]\n",
      "[0.07362297 0.05260816 0.05181864 0.0494554  0.04884762 0.04502574\n",
      " 0.04428936 0.0407729  0.03895209 0.03885135 0.03850735 0.03771296\n",
      " 0.03740905 0.03540846 0.03507459 0.03460619 0.03368619 0.033428\n",
      " 0.02974404 0.02963993 0.02851029 0.02839626 0.02798378 0.02729142\n",
      " 0.02680119 0.02675925 0.02635964 0.02612179 0.02606513 0.0259694\n",
      " 0.02585127 0.02545382 0.0250465  0.02503111 0.02487668 0.02463966\n",
      " 0.02439143 0.0241296  0.02406273 0.0236878  0.02356594 0.02342418\n",
      " 0.02338428 0.02316148 0.02296649 0.02268202 0.02212625 0.0219456\n",
      " 0.02189213 0.02173056 0.02172844 0.0216423  0.02159484 0.02127783\n",
      " 0.0211985  0.02101121 0.02071547 0.02043782 0.01972304 0.0196833\n",
      " 0.0196727  0.01961111 0.01952492 0.01945971 0.01921879 0.01901485\n",
      " 0.01886413 0.01876575 0.01872068 0.01869115 0.01866903 0.01843487\n",
      " 0.01823049 0.01812832 0.01812193 0.01802093 0.0179366  0.01787391\n",
      " 0.01784844 0.01780134 0.017608   0.01758467 0.01739536 0.01738784\n",
      " 0.01724942 0.01724437 0.01715988 0.01713486 0.01709554 0.01706252\n",
      " 0.01687058 0.01680838 0.01677655 0.0167386  0.0167271  0.01671457\n",
      " 0.0166959  0.01664089 0.01652691 0.01643534]\n"
     ]
    }
   ],
   "source": [
    "\n",
    "\n",
    "# Carregar modelo SSD MobileNet V2 pré-treinado do TensorFlow Hub\n",
    "#MODEL = tf.saved_model.load(\"http://download.tensorflow.org/models/object_detection/ssd_mobilenet_v2_fpnlite_320x320_coco17_tpu-8.tar.gz\")\n",
    "\n",
    "MODEL = tf.saved_model.load(\"./modelodetec/saved_model\")\n",
    "\n",
    "\n",
    "\n",
    "# Lista de classes COCO\n",
    "class_names = [\n",
    "    'person', 'bicycle', 'car', 'motorcycle', 'airplane', 'bus', 'train', 'truck',\n",
    "    'boat', 'traffic light', 'fire hydrant', 'stop sign', 'parking meter', 'bench',\n",
    "    'bird', 'cat', 'dog', 'horse', 'sheep', 'cow', 'elephant', 'bear', 'zebra', 'giraffe',\n",
    "    'backpack', 'umbrella', 'handbag', 'tie', 'suitcase', 'frisbee', 'skis', 'snowboard',\n",
    "    'sports ball', 'kite', 'baseball bat', 'baseball glove', 'skateboard', 'surfboard',\n",
    "    'tennis racket', 'bottle', 'wine glass', 'cup', 'fork', 'knife', 'spoon', 'bowl',\n",
    "    'banana', 'apple', 'sandwich', 'orange', 'broccoli', 'carrot', 'hot dog', 'pizza',\n",
    "    'donut', 'cake', 'chair', 'couch', 'potted plant', 'bed', 'dining table', 'toilet',\n",
    "    'tv', 'laptop', 'mouse', 'remote', 'keyboard', 'cell phone', 'microwave', 'oven',\n",
    "    'toaster', 'sink', 'refrigerator', 'book', 'clock', 'vase', 'scissors', 'teddy bear',\n",
    "    'hair drier', 'toothbrush'\n",
    "]\n",
    "\n",
    "\n",
    "# Função de detecção\n",
    "def detect_objects(frame):\n",
    "\n",
    "    input_tensor = tf.convert_to_tensor([frame])\n",
    "    input_tensor = tf.cast(input_tensor, tf.uint8)   \n",
    "     \n",
    "    # For a grayscale image (adding a single channel dimension)\n",
    "    input_tensor = tf.expand_dims(input_tensor, axis=-1)\n",
    "\n",
    "    # If an RGB image is expected and the input is grayscale, it might need\n",
    "    # to be converted or replicated across 3 channels.\n",
    "    # Example for converting grayscale to 3 channels (not always appropriate)\n",
    "    input_tensor = tf.image.grayscale_to_rgb(input_tensor)\n",
    "\n",
    "    \n",
    "    detections = MODEL(input_tensor)\n",
    "\n",
    "    # Extração dos dados\n",
    "    boxes = detections['detection_boxes'][0].numpy()\n",
    "    scores = detections['detection_scores'][0].numpy()\n",
    "    classes = detections['detection_classes'][0].numpy().astype(int)\n",
    "\n",
    "    return boxes, scores, classes\n",
    "\n",
    "\n",
    "# Abrir webcam\n",
    "#cap = cv2.VideoCapture(0)\n",
    "#cap = cv2.VideoCapture(\"video.mp4\")\n",
    "\n",
    "\n",
    "# Load the JPEG image\n",
    "img = Image.open('./frames/frame0.jpg').convert('L')\n",
    "# Convert to grayscale NumPy array (FITS typically stores grayscale data)\n",
    "# If you need to preserve color, you'd handle channels separately or use a specialized approach.\n",
    "image_data = np.array(img)\n",
    "\n",
    "\n",
    "frame = image_data\n",
    "height = 20\n",
    "width = 20 \n",
    "\n",
    "input_frame = cv2.resize(frame, (320, 320))\n",
    "input_frame = input_frame / 255.0  # normalizar\n",
    "\n",
    "\n",
    "\n",
    "boxes, scores, classes = detect_objects(input_frame)\n",
    "print(boxes) \n",
    "print(classes)\n",
    "print(scores)\n",
    "\n",
    "\n",
    "\n",
    "\n",
    "\n",
    "for i in range(len(scores)):\n",
    "    if scores[i] > 0.5:\n",
    "        y1, x1, y2, x2 = boxes[i]\n",
    "        x1 = int(x1 * width)\n",
    "        y1 = int(y1 * height)\n",
    "        x2 = int(x2 * width)\n",
    "        y2 = int(y2 * height)\n",
    "        \n",
    "        label = class_names[classes[i] - 1]\n",
    "        cv2.rectangle(frame, (x1, y1), (x2, y2), (0, 255, 0), 2)\n",
    "        cv2.putText(frame, label, (x1, y1 - 10), cv2.FONT_HERSHEY_SIMPLEX, 0.5, (0, 255, 0), 2)\n",
    "        print('Aqui vai o  label possivel', label)\n",
    "\n",
    "\n",
    "\n",
    "    \n",
    "\n",
    "# Exibe o frame\n",
    "#cv2.imshow('Detecta os Objetos', frame)\n",
    "\n",
    "#cv2.destroyAllWindows()\n",
    "\n"
   ]
  },
  {
   "cell_type": "markdown",
   "id": "f850a1a2-e1f5-4eac-bf09-95ee332238bc",
   "metadata": {},
   "source": [
    "#### 5.1. Aqui vamos fazer o teste da função de detecção em um VIDEO ou em uma WEBCAM"
   ]
  },
  {
   "cell_type": "code",
   "execution_count": 126,
   "id": "833ad38d-4126-485f-abde-b013a120a74f",
   "metadata": {},
   "outputs": [
    {
     "ename": "NameError",
     "evalue": "name 'tf' is not defined",
     "output_type": "error",
     "traceback": [
      "\u001b[31m---------------------------------------------------------------------------\u001b[39m",
      "\u001b[31mNameError\u001b[39m                                 Traceback (most recent call last)",
      "\u001b[36mCell\u001b[39m\u001b[36m \u001b[39m\u001b[32mIn[126]\u001b[39m\u001b[32m, line 3\u001b[39m\n\u001b[32m      1\u001b[39m \u001b[38;5;66;03m# Carregar modelo SSD MobileNet V2 pré-treinado do TensorFlow Hub\u001b[39;00m\n\u001b[32m      2\u001b[39m \u001b[38;5;66;03m#MODEL = tf.saved_model.load(\"http://download.tensorflow.org/models/object_detection/ssd_mobilenet_v2_fpnlite_320x320_coco17_tpu-8.tar.gz\")\u001b[39;00m\n\u001b[32m----> \u001b[39m\u001b[32m3\u001b[39m MODEL = \u001b[43mtf\u001b[49m.saved_model.load(\u001b[33m\"\u001b[39m\u001b[33m./modelodetec/saved_model\u001b[39m\u001b[33m\"\u001b[39m)\n\u001b[32m      5\u001b[39m \u001b[38;5;66;03m# Lista de classes COCO\u001b[39;00m\n\u001b[32m      6\u001b[39m class_names = [\n\u001b[32m      7\u001b[39m     \u001b[33m'\u001b[39m\u001b[33mperson\u001b[39m\u001b[33m'\u001b[39m, \u001b[33m'\u001b[39m\u001b[33mbicycle\u001b[39m\u001b[33m'\u001b[39m, \u001b[33m'\u001b[39m\u001b[33mcar\u001b[39m\u001b[33m'\u001b[39m, \u001b[33m'\u001b[39m\u001b[33mmotorcycle\u001b[39m\u001b[33m'\u001b[39m, \u001b[33m'\u001b[39m\u001b[33mairplane\u001b[39m\u001b[33m'\u001b[39m, \u001b[33m'\u001b[39m\u001b[33mbus\u001b[39m\u001b[33m'\u001b[39m, \u001b[33m'\u001b[39m\u001b[33mtrain\u001b[39m\u001b[33m'\u001b[39m, \u001b[33m'\u001b[39m\u001b[33mtruck\u001b[39m\u001b[33m'\u001b[39m,\n\u001b[32m      8\u001b[39m     \u001b[33m'\u001b[39m\u001b[33mboat\u001b[39m\u001b[33m'\u001b[39m, \u001b[33m'\u001b[39m\u001b[33mtraffic light\u001b[39m\u001b[33m'\u001b[39m, \u001b[33m'\u001b[39m\u001b[33mfire hydrant\u001b[39m\u001b[33m'\u001b[39m, \u001b[33m'\u001b[39m\u001b[33mstop sign\u001b[39m\u001b[33m'\u001b[39m, \u001b[33m'\u001b[39m\u001b[33mparking meter\u001b[39m\u001b[33m'\u001b[39m, \u001b[33m'\u001b[39m\u001b[33mbench\u001b[39m\u001b[33m'\u001b[39m,\n\u001b[32m   (...)\u001b[39m\u001b[32m     17\u001b[39m     \u001b[33m'\u001b[39m\u001b[33mhair drier\u001b[39m\u001b[33m'\u001b[39m, \u001b[33m'\u001b[39m\u001b[33mtoothbrush\u001b[39m\u001b[33m'\u001b[39m\n\u001b[32m     18\u001b[39m ]\n",
      "\u001b[31mNameError\u001b[39m: name 'tf' is not defined"
     ]
    }
   ],
   "source": [
    "\n",
    "\n",
    "# Carregar modelo SSD MobileNet V2 pré-treinado do TensorFlow Hub\n",
    "#MODEL = tf.saved_model.load(\"http://download.tensorflow.org/models/object_detection/ssd_mobilenet_v2_fpnlite_320x320_coco17_tpu-8.tar.gz\")\n",
    "MODEL = tf.saved_model.load(\"./modelodetec/saved_model\")\n",
    "\n",
    "# Lista de classes COCO\n",
    "class_names = [\n",
    "    'person', 'bicycle', 'car', 'motorcycle', 'airplane', 'bus', 'train', 'truck',\n",
    "    'boat', 'traffic light', 'fire hydrant', 'stop sign', 'parking meter', 'bench',\n",
    "    'bird', 'cat', 'dog', 'horse', 'sheep', 'cow', 'elephant', 'bear', 'zebra', 'giraffe',\n",
    "    'backpack', 'umbrella', 'handbag', 'tie', 'suitcase', 'frisbee', 'skis', 'snowboard',\n",
    "    'sports ball', 'kite', 'baseball bat', 'baseball glove', 'skateboard', 'surfboard',\n",
    "    'tennis racket', 'bottle', 'wine glass', 'cup', 'fork', 'knife', 'spoon', 'bowl',\n",
    "    'banana', 'apple', 'sandwich', 'orange', 'broccoli', 'carrot', 'hot dog', 'pizza',\n",
    "    'donut', 'cake', 'chair', 'couch', 'potted plant', 'bed', 'dining table', 'toilet',\n",
    "    'tv', 'laptop', 'mouse', 'remote', 'keyboard', 'cell phone', 'microwave', 'oven',\n",
    "    'toaster', 'sink', 'refrigerator', 'book', 'clock', 'vase', 'scissors', 'teddy bear',\n",
    "    'hair drier', 'toothbrush'\n",
    "]\n",
    "\n",
    "\n",
    "\n",
    "# Função de detecção\n",
    "def detect_objects(frame):\n",
    "\n",
    "    input_tensor = tf.convert_to_tensor([frame])\n",
    "    input_tensor = tf.cast(input_tensor, tf.uint8)   \n",
    "     \n",
    "    # For a grayscale image (adding a single channel dimension)\n",
    "    #input_tensor = tf.expand_dims(input_tensor, axis=-1)\n",
    "\n",
    "    # If an RGB image is expected and the input is grayscale, it might need\n",
    "    # to be converted or replicated across 3 channels.\n",
    "    # Example for converting grayscale to 3 channels (not always appropriate)\n",
    "    #input_tensor = tf.image.grayscale_to_rgb(input_tensor)\n",
    "\n",
    "    \n",
    "    detections = MODEL(input_tensor)\n",
    "\n",
    "    # Extração dos dados\n",
    "    boxes = detections['detection_boxes'][0].numpy()\n",
    "    scores = detections['detection_scores'][0].numpy()\n",
    "    classes = detections['detection_classes'][0].numpy().astype(int)\n",
    "\n",
    "    return boxes, scores, classes\n",
    "\n",
    "\n",
    "\n",
    "\n",
    "# Abrir webcam\n",
    "#cap = cv2.VideoCapture(0)\n",
    "cap = cv2.VideoCapture(\"video.mp4\")\n",
    "\n",
    "while True:\n",
    "    ret, frame = cap.read()\n",
    "    if not ret:\n",
    "        break\n",
    "\n",
    "    height, width, _ = frame.shape\n",
    "    input_frame = cv2.resize(frame, (320, 320))\n",
    "    input_frame = input_frame / 255.0  # normalizar\n",
    "    boxes, scores, classes = detect_objects(input_frame)\n",
    "\n",
    "    for i in range(len(scores)):\n",
    "        if scores[i] > 0.5:\n",
    "            y1, x1, y2, x2 = boxes[i]\n",
    "            x1 = int(x1 * width)\n",
    "            y1 = int(y1 * height)\n",
    "            x2 = int(x2 * width)\n",
    "            y2 = int(y2 * height)\n",
    "\n",
    "            label = class_names[classes[i] - 1]\n",
    "            cv2.rectangle(frame, (x1, y1), (x2, y2), (0, 255, 0), 2)\n",
    "            cv2.putText(frame, label, (x1, y1 - 10), cv2.FONT_HERSHEY_SIMPLEX, 0.5, (0, 255, 0), 2)\n",
    "\n",
    "    cv2.imshow('Detecta os Objetos', frame)\n",
    "\n",
    "    if cv2.waitKey(1) & 0xFF == ord('q'):\n",
    "        break\n",
    "\n",
    "cap.release()\n",
    "cv2.destroyAllWindows()\n",
    "\n",
    "\n",
    "\n"
   ]
  },
  {
   "cell_type": "markdown",
   "id": "1e9fed18-009f-41b0-a3c9-89ba0b175ebe",
   "metadata": {},
   "source": [
    "### 6. Fazendo a transcrição do audio"
   ]
  },
  {
   "cell_type": "code",
   "execution_count": 6,
   "id": "60d01559-8331-4475-af20-54e19bb1462a",
   "metadata": {},
   "outputs": [
    {
     "name": "stdout",
     "output_type": "stream",
     "text": [
      "-----------------------------------------------------------------\n",
      "::Confira aqui o texto extraido do audio :  gravação do vídeo para o projeto da SC com reconhecimento de objetos utilizando machine learning aqui em cima desta mesa nós temos um mouse um livro e temos uma caneca a ideia desse projeto é separar os canais de áudio e vídeo transcrever o arquivo de áudio texto usando espírito Tex e desenvolver um algoritmo machine learning que classifica os objetos presentes no vídeo e atribui lei dos princípios objetos vamos em frente\n",
      "-----------------------------------------------------------------\n"
     ]
    }
   ],
   "source": [
    "# carregando o canal de audio em mp3\n",
    "src=(r\"./somente_audio.mp3\")\n",
    "\n",
    "\n",
    "# converter de mp3 para wav\n",
    "sound = AudioSegment.from_mp3(src)\n",
    "sound.export(\"somente_audio.wav\", format=\"wav\")\n",
    "file_audio = sr.AudioFile(\"somente_audio.wav\")\n",
    "\n",
    "\n",
    "# Usar o audio em WAV para a lib de transcricao \n",
    "r = sr.Recognizer()\n",
    "with file_audio as source:\n",
    "   audio_text = r.record(source)\n",
    "   text = r.recognize_google(audio_text,language='pt-BR')\n",
    "\n",
    "\n",
    "print('-----------------------------------------------------------------')\n",
    "print('::Confira aqui o texto extraido do audio : ', text)\n",
    "print('-----------------------------------------------------------------')\n"
   ]
  },
  {
   "cell_type": "markdown",
   "id": "3f597975-f777-4415-b83e-841eccc60184",
   "metadata": {},
   "source": [
    "### 7. Funções Auxiliares do Projeto"
   ]
  },
  {
   "cell_type": "code",
   "execution_count": 134,
   "id": "ea7f6991-d6c4-497b-a2eb-5cdc817be08d",
   "metadata": {},
   "outputs": [
    {
     "name": "stdout",
     "output_type": "stream",
     "text": [
      "An error occurred: name 'id_frame' is not defined\n",
      "Filename: ./fits/frame0.fits\n",
      "No.    Name      Ver    Type      Cards   Dimensions   Format\n",
      "  0  PRIMARY       1 PrimaryHDU       8   (848, 480)   uint8   \n"
     ]
    }
   ],
   "source": [
    "# Aqui vamos criar uma função de conversão de JPG para FITS e deixa-la em memoria para chamadas poteriores\n",
    "\n",
    "from PIL import Image\n",
    "import numpy as np\n",
    "from astropy.io import fits\n",
    "\n",
    "\n",
    "\n",
    "def jpg_to_fits(jpg_path, fits_path):\n",
    "    \"\"\"\n",
    "    Converts a JPEG image to a FITS file.\n",
    "\n",
    "    Args:\n",
    "        jpg_path (str): The path to the input JPEG file.\n",
    "        fits_path (str): The path to save the output FITS file.\n",
    "    \"\"\"\n",
    "    try:\n",
    "        # Load the JPEG image\n",
    "        img = Image.open(jpg_path).convert('L')\n",
    "\n",
    "        # Convert to grayscale NumPy array (FITS typically stores grayscale data)\n",
    "        # If you need to preserve color, you'd handle channels separately or use a specialized approach.\n",
    "        image_data = np.array(img)\n",
    "\n",
    "        # Create a PrimaryHDU from the image data\n",
    "        hdu = fits.PrimaryHDU(image_data)\n",
    "\n",
    "\n",
    "        # Gerando e editando os headers\n",
    "        hdu.header['IMGTYPE'] = 'Grayscale Image'\n",
    "        hdu.header['DATE-OBS'] = '2025-05-13T08:24:08.310'\n",
    "        hdu.header['OBSERVER'] = 'Robson Tavares Nonato'         \n",
    "        hdu.header['ORIGIN'] = 'Python Conversion'\n",
    "        hdu.header['OBJECT'] = 'Projeto SCCON'\n",
    "        hdu.header['EXPTIME'] = '120'\n",
    "        hdu.header['RECORD-ID'] = 'ID_FRAME_' + str(id_frame)                     \n",
    "        # Add a new keyword with a comment\n",
    "        hdu.header['COMMENT'] = ('Convertido de um JPG', 'Imagem de testes de projeto de detecção de imagens')\n",
    "            \n",
    "        \n",
    "\n",
    "        # Create an HDUList and append the HDU\n",
    "        hdul = fits.HDUList([hdu])\n",
    "\n",
    "\n",
    "        # Save the FITS file\n",
    "        hdul.writeto(fits_path, overwrite=True)\n",
    "        print(f\"Successfully converted '{jpg_path}' to '{fits_path}'\")\n",
    "\n",
    "    except FileNotFoundError:\n",
    "        print(f\"Error: File not found at '{jpg_path}'\")\n",
    "    except Exception as e:\n",
    "        print(f\"An error occurred: {e}\")\n",
    "\n",
    "\n",
    "\n",
    "# teste da chamada da função de conversao\n",
    "jpg_to_fits('./frames/frame0.jpg', './fits/frame0.fits')\n",
    "\n",
    "# verifivando o conteudo do arquivo FITS\n",
    "file = fits.open('./fits/frame0.fits')\n",
    "file.info()\n",
    "\n",
    "\n",
    "\n"
   ]
  },
  {
   "cell_type": "code",
   "execution_count": null,
   "id": "4005495d-1ac9-4ec1-b0be-2543ead4f572",
   "metadata": {},
   "outputs": [],
   "source": []
  }
 ],
 "metadata": {
  "kernelspec": {
   "display_name": "Python 3 (ipykernel)",
   "language": "python",
   "name": "python3"
  },
  "language_info": {
   "codemirror_mode": {
    "name": "ipython",
    "version": 3
   },
   "file_extension": ".py",
   "mimetype": "text/x-python",
   "name": "python",
   "nbconvert_exporter": "python",
   "pygments_lexer": "ipython3",
   "version": "3.13.3"
  }
 },
 "nbformat": 4,
 "nbformat_minor": 5
}
